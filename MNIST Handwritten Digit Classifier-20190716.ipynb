{
 "cells": [
  {
   "cell_type": "markdown",
   "metadata": {},
   "source": [
    "# MNIST Handwritten Digit Classifier"
   ]
  },
  {
   "cell_type": "markdown",
   "metadata": {},
   "source": [
    "## Introduction"
   ]
  },
  {
   "cell_type": "markdown",
   "metadata": {},
   "source": [
    "This notebook uses logistic regression as a one-vs-all multi-class classification of the 0 through 9 handwritten digits in the MNIST dataset. A detailed description of the dataset and a catolog of previous analysis on the datset can be found here: http://yann.lecun.com/exdb/mnist/. "
   ]
  },
  {
   "cell_type": "markdown",
   "metadata": {},
   "source": [
    "## Future Work"
   ]
  },
  {
   "cell_type": "markdown",
   "metadata": {},
   "source": [
    "Ideas for improvement\n",
    " - prettify the notebook\n",
    " - plot the cost functions\n",
    " - apply SVM's\n",
    " - apply neural networks\n",
    " - optimize alpha (and lambda)\n",
    " - add regularization"
   ]
  },
  {
   "cell_type": "code",
   "execution_count": 65,
   "metadata": {},
   "outputs": [],
   "source": [
    "import numpy as np\n",
    "from mlxtend.data import loadlocal_mnist\n",
    "import matplotlib.pyplot as plt\n",
    "import time"
   ]
  },
  {
   "cell_type": "markdown",
   "metadata": {},
   "source": [
    "## The Dataset"
   ]
  },
  {
   "cell_type": "markdown",
   "metadata": {},
   "source": [
    "The dataset was downloaded from http://yann.lecun.com/exdb/mnist/ and then unzipped. The data was then processed using the mlxtend.data library outlined here:  https://rasbt.github.io/mlxtend/user_guide/data/loadlocal_mnist/"
   ]
  },
  {
   "cell_type": "code",
   "execution_count": 2,
   "metadata": {},
   "outputs": [],
   "source": [
    "X_train_org, y_train_org = loadlocal_mnist(\n",
    "        images_path='train-images-idx3-ubyte', \n",
    "        labels_path='train-labels-idx1-ubyte')\n",
    "\n",
    "X_test_org, y_test_org = loadlocal_mnist(\n",
    "        images_path='t10k-images-idx3-ubyte', \n",
    "        labels_path='t10k-labels-idx1-ubyte')"
   ]
  },
  {
   "cell_type": "markdown",
   "metadata": {},
   "source": [
    "The images of each digit are made up for 28 x 28 pixels (784 total), which have been reformatted into a single vector of length 784. There are 60,000 images in the training set and 10,000 in the test set. The y_train and y_test are oddly shaped, which is a concern, though it doesn't effect the analyis in the end. I tried to remedy this using the np.squeeze function, but it didn't work. "
   ]
  },
  {
   "cell_type": "code",
   "execution_count": 3,
   "metadata": {},
   "outputs": [
    {
     "name": "stdout",
     "output_type": "stream",
     "text": [
      "X_train dimensions: 60000 x 784\n",
      "y_train dimensions:(60000,)\n",
      "X_test dimensionss: 10000 x 784\n",
      "y_test dimensions:(10000,)\n",
      "Example of X_train: [[0 0 0 0 0 0 0 0 0 0 0 0 0 0 0]\n",
      " [0 0 0 0 0 0 0 0 0 0 0 0 0 0 0]\n",
      " [0 0 0 0 0 0 0 0 0 0 0 0 0 0 0]\n",
      " [0 0 0 0 0 0 0 0 0 0 0 0 0 0 0]\n",
      " [0 0 0 0 0 0 0 0 0 0 0 0 0 0 0]\n",
      " [0 0 0 0 0 0 0 0 0 0 0 0 0 0 0]\n",
      " [0 0 0 0 0 0 0 0 0 0 0 0 0 0 0]\n",
      " [0 0 0 0 0 0 0 0 0 0 0 0 0 0 0]\n",
      " [0 0 0 0 0 0 0 0 0 0 0 0 0 0 0]\n",
      " [0 0 0 0 0 0 0 0 0 0 0 0 0 0 0]\n",
      " [0 0 0 0 0 0 0 0 0 0 0 0 0 0 0]\n",
      " [0 0 0 0 0 0 0 0 0 0 0 0 0 0 0]\n",
      " [0 0 0 0 0 0 0 0 0 0 0 0 0 0 0]\n",
      " [0 0 0 0 0 0 0 0 0 0 0 0 0 0 0]\n",
      " [0 0 0 0 0 0 0 0 0 0 0 0 0 0 0]]\n",
      "Example of y_train: [5 0 4 1 9 2 1 3 1 4 3 5 3 6 1]\n"
     ]
    }
   ],
   "source": [
    "print('X_train dimensions: %s x %s' % (X_train_org.shape[0], X_train_org.shape[1]))\n",
    "print('y_train dimensions:'+ str(y_train_org.shape )) \n",
    "print('X_test dimensionss: %s x %s' % (X_test_org.shape[0], X_test_org.shape[1]))\n",
    "print('y_test dimensions:'+ str(y_test_org.shape )) \n",
    "print('Example of X_train:', X_train_org[0:15,0:15])\n",
    "print('Example of y_train:', y_train_org[0:15])"
   ]
  },
  {
   "cell_type": "markdown",
   "metadata": {},
   "source": [
    "Below are images of what a given example of the handwritten digits look like. "
   ]
  },
  {
   "cell_type": "code",
   "execution_count": 4,
   "metadata": {},
   "outputs": [
    {
     "data": {
      "text/plain": [
       "<matplotlib.image.AxesImage at 0x11b99fc50>"
      ]
     },
     "execution_count": 4,
     "metadata": {},
     "output_type": "execute_result"
    },
    {
     "data": {
      "image/png": "[encoded data removed]",
      "text/plain": [
       "<Figure size 432x288 with 1 Axes>"
      ]
     },
     "metadata": {
      "needs_background": "light"
     },
     "output_type": "display_data"
    }
   ],
   "source": [
    "example_number = 2\n",
    "img = X_train_org[example_number,:].reshape(28,28)\n",
    "plt.imshow(img, cmap='gray')"
   ]
  },
  {
   "cell_type": "markdown",
   "metadata": {},
   "source": [
    "The data is currently formatted with the rows being the nummber of examples, (m=60,000), and the columns being the features, (n=784). The analysis I will perform has the data transposed, with size n x m, which will be done below. Additionally, I have scaled the data to be within zero and 1 by dividing by 255, as the pixel values are 8-bit integers. \n",
    "I remedied the missing column values in y_train and y_test with by putting them inside a np.array and transposed the y-values as well. "
   ]
  },
  {
   "cell_type": "code",
   "execution_count": 20,
   "metadata": {},
   "outputs": [
    {
     "name": "stdout",
     "output_type": "stream",
     "text": [
      "(1, 60000)\n"
     ]
    }
   ],
   "source": [
    "X_train = X_train_org.T/255\n",
    "X_test = X_test_org.T/255\n",
    "\n",
    "y_train = np.array([y_train_org.T])\n",
    "print(y_train.shape)\n",
    "y_test = np.array([y_test_org.T])\n",
    "\n",
    "#training data for only the one-digit which will be used to test the single-digit classifier\n",
    "y_train_ones = y_train ==1\n",
    "y_test_ones = y_test ==1"
   ]
  },
  {
   "cell_type": "markdown",
   "metadata": {},
   "source": [
    "## Methods"
   ]
  },
  {
   "cell_type": "markdown",
   "metadata": {},
   "source": [
    "The methodology of using binary classification in one-vs-all multiclassification is outlined briefly here: http://mlwiki.org/index.php/One-vs-All_Classification. A binary classifier using logistic regression will be trained separately for each digit. This means that the dataset will be modified where only zero's are a positive result (y=1) and all other digits are a negative result (y=0). The binary classifier will then be trained to identify zero's (y=1) resulting in a weights matrix (generally denoted W, but denoted W0 for the weights of the zero classifier) and the bias vector, b (also denoted b0 for the zero classifier). \n",
    "\n",
    "10 classifiers will be trained for each digit each with their own weights (W) and bias (b). Then, each example will be run through the 10 classifiers and the classifier that yields the greatest value, indicating the strongest classification, will be chosen. Through this way, the entire dataset can be used to classified."
   ]
  },
  {
   "cell_type": "code",
   "execution_count": 6,
   "metadata": {},
   "outputs": [],
   "source": [
    "def initialize():\n",
    "    '''\n",
    "    Description\n",
    "    This funciton initializes the parameters in the classifier with the W-weights initialized to small random\n",
    "        numbers and the bias term, b, intialized to zeros.\n",
    "    \n",
    "    Input\n",
    "    For a simple classifier, no inputs are needed because there is only a single W matrix and a single b-vector.\n",
    "    For a neural network, separate weight matricies and bias vectors need to be created for each layer.\n",
    "    \n",
    "    Output\n",
    "    W - the weight matrix\n",
    "    b - the bias vector\n",
    "    \n",
    "    '''\n",
    "    \n",
    "    np.random.seed(2) #sets the seed of the random number generator\n",
    "    \n",
    "    W = np.random.randn(1, X_train.shape[0])*0.01\n",
    "    #the '[0]' term below is used to strip one set of square brackets off b so that its shape is consisent with db below\n",
    "    b = np.zeros((1,1))\n",
    "  \n",
    "    \n",
    "    #the assert statements are used to ensure the W and b matricies have the correct shape.\n",
    "    assert(W.shape == (1, X_train.shape[0]))\n",
    "    assert(b.shape == (1,1))\n",
    "        \n",
    "    return W, b\n",
    "    "
   ]
  },
  {
   "cell_type": "code",
   "execution_count": 7,
   "metadata": {},
   "outputs": [],
   "source": [
    "#this commmented command can be used to check the output of the initialize fuction\n",
    "#initialize()"
   ]
  },
  {
   "cell_type": "code",
   "execution_count": 8,
   "metadata": {},
   "outputs": [],
   "source": [
    "def sigmoid(x):\n",
    "    '''\n",
    "    Description\n",
    "    The sigmoid function, which is used in logistic regression.\n",
    "    \n",
    "    Input\n",
    "    A value or np.array, x\n",
    "    \n",
    "    Ouput\n",
    "    The sigmoid of the input\n",
    "    '''\n",
    "    \n",
    "    sig = 1/(1+np.exp(-x))\n",
    "    \n",
    "    return sig"
   ]
  },
  {
   "cell_type": "markdown",
   "metadata": {},
   "source": [
    "At large negative values, the sigmoid function outputs zero; at zero, the sigmoid outputs 0.5; and at large positive values, the sigmoid outputs one."
   ]
  },
  {
   "cell_type": "code",
   "execution_count": 9,
   "metadata": {},
   "outputs": [
    {
     "data": {
      "text/plain": [
       "array([4.53978687e-05, 5.00000000e-01, 9.99954602e-01])"
      ]
     },
     "execution_count": 9,
     "metadata": {},
     "output_type": "execute_result"
    }
   ],
   "source": [
    "sig_test = np.array([-10,0,10])\n",
    "sigmoid(sig_test)"
   ]
  },
  {
   "cell_type": "markdown",
   "metadata": {},
   "source": [
    "I don't think I need the function for the deriviative of the sigmoid, but I wrote it anyway. I should probably delete the function"
   ]
  },
  {
   "cell_type": "code",
   "execution_count": 10,
   "metadata": {},
   "outputs": [],
   "source": [
    "def deriv_sigmoid(x):\n",
    "    '''\n",
    "    Description\n",
    "    The derivative of the sigmoid function\n",
    "    \n",
    "    '''\n",
    "    \n",
    "    d_sig = sigmoid(x) * (1 - sigmoid (x))\n",
    "    \n",
    "    return d_sig"
   ]
  },
  {
   "cell_type": "markdown",
   "metadata": {},
   "source": [
    "At large negative values, the derivative outputs zero; at zero, the derivative is 0.25; and at large positive values, the derivative is also zero."
   ]
  },
  {
   "cell_type": "code",
   "execution_count": 11,
   "metadata": {},
   "outputs": [
    {
     "data": {
      "text/plain": [
       "array([4.53958077e-05, 2.50000000e-01, 4.53958077e-05])"
      ]
     },
     "execution_count": 11,
     "metadata": {},
     "output_type": "execute_result"
    }
   ],
   "source": [
    "d_sig_test = np.array([-10,0,10])\n",
    "deriv_sigmoid(d_sig_test)"
   ]
  },
  {
   "cell_type": "code",
   "execution_count": 12,
   "metadata": {},
   "outputs": [],
   "source": [
    "def forward_prop(W, b, X):\n",
    "    '''\n",
    "    Description\n",
    "    This function calculates the forward progagation of logistic regression. Here the activation function is\n",
    "        the sigmoid function\n",
    "    \n",
    "    Input\n",
    "    W - the weight matrix\n",
    "    b - the bias bector\n",
    "    X - the input data\n",
    "    \n",
    "    Output\n",
    "    Z - the linear multiplication of W and X added to the bias term, b\n",
    "    A - the activation value, which is the activation function computed on the Z-value\n",
    "    \n",
    "    '''\n",
    "    \n",
    "    Z = np.dot(W, X) + b\n",
    "    A = sigmoid(Z)    \n",
    "        \n",
    "    return A, Z"
   ]
  },
  {
   "cell_type": "markdown",
   "metadata": {},
   "source": [
    "The propagation function which conducts the forward propagation step, computes the cost function, and updates the W and b terms using gradient descent. Gradient descent is done by calculating the derivative of the cost function with respect to the W and b terms. This derivative is calculated using the chain rule. \n",
    "\n",
    "The best concise description I can find for this is here: https://medium.com/technology-nineleaps/logistic-regression-gradient-descent-optimization-part-1-ed320325a67e - through this article doesn't derive the derivative calculations, dW (which is shorthand for $\\partial$C/$\\partial$W where C is the cost funcition) and db (which is also $\\partial$C/$\\partial$b)."
   ]
  },
  {
   "cell_type": "code",
   "execution_count": 13,
   "metadata": {},
   "outputs": [],
   "source": [
    "def propagate(X, W, b, Y):\n",
    "    '''\n",
    "    Description\n",
    "    Calles the forward_prop function top conduct forward propogation, calculates the cost function, and calculates\n",
    "        the derivatives of the cost function with respect to W and b to implement gradient descent to update W and b.\n",
    "    \n",
    "    Input\n",
    "    X   - the training data\n",
    "    W   - the weights\n",
    "    \n",
    "\n",
    "    Output\n",
    "    cost    - the cost function calculated\n",
    "    dW   - the gradient of the W-weight\n",
    "    db   - the gradient of the bias term, b\n",
    "    '''\n",
    "    \n",
    "\n",
    "    A, Z = forward_prop(W, b, X)\n",
    "    \n",
    "    m = A.shape[1]\n",
    "    \n",
    "    #calculating the cost function of logistic regressions\n",
    "    cost = -1/m * np.sum(Y * np.log(A) + (1 - Y) * np.log(1-A), axis=1) \n",
    "    \n",
    "    #calculates the gradients of W and b\n",
    "    dW = 2/m * np.dot(A - Y, X.T)\n",
    "    db = np.array([1/m * np.sum(A - Y, axis=1)])\n",
    "    #print(db.shape)\n",
    "    \n",
    "    assert(dW.shape == W.shape)\n",
    "    assert(db.shape == b.shape)\n",
    "\n",
    "            \n",
    "    return cost, dW, db"
   ]
  },
  {
   "cell_type": "code",
   "execution_count": 29,
   "metadata": {},
   "outputs": [],
   "source": [
    "def single_digit_classifier(X_train, Y_train, learning_rate=0.1, iterations = 500, print_cost = True):\n",
    "    '''\n",
    "    Description\n",
    "    Runs the logistic regression for a single digit\n",
    "\n",
    "    Inputs\n",
    "    X_train - the input features of the training data\n",
    "    Y_train - the labels of the digits in the training set\n",
    "    learning_rate - the learning rate used in gradient descent, set to 0.1 by default\n",
    "    iternations - the number of iterations of the gradient descent, set to 500 by default\n",
    "    print_cost - a binary label to see if the cost of of every 100 iterations will be printed\n",
    "    \n",
    "    Outputs\n",
    "    W - the final value of the W-weight optimized by gradient descent\n",
    "    b - the final value of the b bias term optimized by gradient descent\n",
    "    costs - a list of the costs calculated over the iterations\n",
    "    \n",
    "    '''\n",
    "    \n",
    "    costs = []\n",
    "    W, b = initialize()\n",
    "    \n",
    "    for i in range(iterations):\n",
    "\n",
    "        cost, dW, db = propagate(X_train, W, b, Y_train)\n",
    "        \n",
    "        W = W - learning_rate * dW\n",
    "        b = b - learning_rate * db\n",
    "        \n",
    "        \n",
    "        #if print_cost & i % 100 == 0:\n",
    "        #    print('Cost for ' + str(i) + '= ' + str(cost) ) \n",
    "    \n",
    "    \n",
    "    return W, b, costs"
   ]
  },
  {
   "cell_type": "code",
   "execution_count": 16,
   "metadata": {},
   "outputs": [],
   "source": [
    "sd  = single_digit_classifier(X_train, y_train_ones)"
   ]
  },
  {
   "cell_type": "code",
   "execution_count": 21,
   "metadata": {},
   "outputs": [],
   "source": [
    "def single_digit_error(X,W,b, y):\n",
    "    '''\n",
    "    Description\n",
    "    Calculates the error of the predictions for the single digit classifier. In this function, the classifier is\n",
    "        seen to \"predict\" a certain value if the A-values are greater than 0.5, which is the classification threshold.\n",
    "        This will not be how the error is calculate or how prediction is calculated with multiple digits. \n",
    "    \n",
    "    Inputs\n",
    "    The usual suspects\n",
    "    \n",
    "    Ouput\n",
    "    The error term which is the average deviation of the predictions from the y-labels\n",
    "    '''\n",
    "    \n",
    "    A, Z = forward_prop(W,b,X)\n",
    "    \n",
    "    predictions = A>0.5*1.0\n",
    "    \n",
    "    m = predictions.shape[1]\n",
    "    \n",
    "    error = 1/m * np.sum(predictions!=y)\n",
    "    \n",
    "    return error"
   ]
  },
  {
   "cell_type": "markdown",
   "metadata": {},
   "source": [
    "Running the error function for the single digit classifier"
   ]
  },
  {
   "cell_type": "code",
   "execution_count": 31,
   "metadata": {},
   "outputs": [
    {
     "name": "stdout",
     "output_type": "stream",
     "text": [
      "Training set error:  0.01175\n",
      "Test set error:  0.0083\n"
     ]
    },
    {
     "data": {
      "text/plain": [
       "()"
      ]
     },
     "execution_count": 31,
     "metadata": {},
     "output_type": "execute_result"
    }
   ],
   "source": [
    "single_train_error = single_digit_error(X_train, sd[0], sd[1], y_train_ones)\n",
    "single_test_error = single_digit_error(X_test, sd[0], sd[1], y_test_ones)\n",
    "print('Training set error: ', single_train_error)\n",
    "print('Test set error: ', single_test_error)\n"
   ]
  },
  {
   "cell_type": "markdown",
   "metadata": {},
   "source": [
    "The method of making predictions in the single_digit_error calculator is likely inaccurate as the training set error and test set errors are too small when seen in the context of the performance of other learning algorithms on this dataset, as shown here: http://yann.lecun.com/exdb/mnist/. The lowest error on the dataset was 0.23 from using a 35 layer neural network. Granted, the error calculated above is only for classifying a single digit, while the 0.23 is for classifying all digits. One potential reason why our single digit classifer is doing so well could be do to the low frequency of positive events (y=1). There are around 6,500 ones in the dataset, which is roughly 10% of the dataset, which means that even if no learning occured and the algorithm always predicted a y=0, it would have a 10% error rate. \n",
    "\n",
    "I won't spend too much time disecting the reason for the low error rate, as simply classifying ones is only 1/10 of the stated mission. "
   ]
  },
  {
   "cell_type": "markdown",
   "metadata": {},
   "source": [
    "## Multi-digit Classifier"
   ]
  },
  {
   "cell_type": "code",
   "execution_count": 28,
   "metadata": {},
   "outputs": [],
   "source": [
    "def multi_digit_classifier(X_train, y_train, learning_rate):\n",
    "    '''\n",
    "    Description\n",
    "    This function calls the single_digit_classifier fuction on every number in the data set (0-9), which generates\n",
    "    W and b values for each digit. \n",
    "    \n",
    "    Input\n",
    "    X_train - the features in the training set\n",
    "    y_train - the labels of the features in the training set\n",
    "    learning_rate - the learing rate used in gradient descent - it is an input to the single_digit_classifier\n",
    "    \n",
    "    Output\n",
    "    parameters - a dictionary of the W and b parameters for each digit classifier with labels 'W0' for the \n",
    "        W-weight of the zero classifier and 'b0' for the b-term of the zero classifier.\n",
    "        \n",
    "    '''\n",
    "    \n",
    "    parameters = {}\n",
    "#   cost_dic = {}\n",
    "    m = X_train.shape[1]\n",
    "    \n",
    "    for i in range(10):\n",
    "        y_train_temp = y_train ==i\n",
    "        W, b, costs = single_digit_classifier(X_train, y_train_temp, learning_rate)\n",
    "        parameters['W_'+str(i)] = W\n",
    "        parameters['b_'+str(i)] = b\n",
    "#        costs['costs_'+str(i)] = costs\n",
    "\n",
    "\n",
    "    return parameters"
   ]
  },
  {
   "cell_type": "markdown",
   "metadata": {},
   "source": [
    "Running the multi-digit classifier. The classifier takes almost 3 minutes to run, which doesn't bode well for parameter tuning. In future work, I will consider how to reduce the number of for-loops to try to speed up the computation time."
   ]
  },
  {
   "cell_type": "code",
   "execution_count": 57,
   "metadata": {
    "scrolled": true
   },
   "outputs": [
    {
     "name": "stdout",
     "output_type": "stream",
     "text": [
      "Time to run classifier:  193.93325185775757\n"
     ]
    }
   ],
   "source": [
    "time1 = time.time()\n",
    "multi_digit_parameters = multi_digit_classifier(X_train, y_train, learning_rate=0.1)\n",
    "time2 = time.time()\n",
    "print('Minutes to run classifier: ', (time2-time1)/60 )"
   ]
  },
  {
   "cell_type": "code",
   "execution_count": 58,
   "metadata": {},
   "outputs": [],
   "source": [
    "def multi_digit_predict(parameters, X):\n",
    "    '''\n",
    "    Description\n",
    "    This function uses the parameters of the multi_digit_classifier to calculate the A-values for each single \n",
    "        digit classifier and takes the digit with the maximum A-value as the predicted digit.\n",
    "    \n",
    "    Input\n",
    "    parameters - the W and b values for each single digit classifier outputted from the multi_digit_classifier\n",
    "    X          - the the feature data that will be used along with the parameters to calculate the A-values \n",
    "    \n",
    "    Output\n",
    "    predictions - a list of the predicted numbers for each of the examples in the dataset, X\n",
    "    \n",
    "    '''\n",
    "    \n",
    "    A_values, Z = forward_prop(parameters['W_'+str(0)], parameters['b_'+str(0)], X)\n",
    "    for i in range(1,10):\n",
    "        A_temp, Z = forward_prop(parameters['W_'+str(i)], parameters['b_'+str(i)], X)\n",
    "        A_values = np.append(A_values, A_temp, axis=0)\n",
    "    \n",
    "    predictions = []\n",
    "    for j in range(X.shape[1]):\n",
    "        predictions.append(np.argmax(A_values[:,j]))\n",
    "    \n",
    "    assert(len(predictions) == X.shape[1])\n",
    "    \n",
    "    return predictions"
   ]
  },
  {
   "cell_type": "code",
   "execution_count": 60,
   "metadata": {},
   "outputs": [
    {
     "name": "stdout",
     "output_type": "stream",
     "text": [
      "A sample of the predictions:  [5, 0, 4, 1, 9, 2, 1, 3, 1, 4, 3, 5, 3, 6, 1]\n"
     ]
    }
   ],
   "source": [
    "multi_train_predictions = multi_digit_predict(multi_digit_parameters, X_train)\n",
    "multi_test_predictions = multi_digit_predict(multi_digit_parameters, X_test)\n",
    "\n",
    "print('A sample of the predictions: ',all_train_predictions[0:15])"
   ]
  },
  {
   "cell_type": "code",
   "execution_count": 63,
   "metadata": {},
   "outputs": [],
   "source": [
    "def multi_digit_error(predictions, y):\n",
    "    '''\n",
    "    Description\n",
    "    This function calculates the error for the multi_digit_classifier my taking the average number of incorrrect\n",
    "    classifications of the y-labels in the training set.\n",
    "    \n",
    "    Inputs\n",
    "    predictions - the predictions of the digits in each image, the output the multi_digit_predict function\n",
    "    y - the labels of the training set data\n",
    "    \n",
    "    Outputs\n",
    "    error - the average number of incorrect classifications\n",
    "    \n",
    "    '''\n",
    "    \n",
    "    m = len(predictions)\n",
    "    error = 1/m * np.sum(predictions!=y)\n",
    "    \n",
    "    return error"
   ]
  },
  {
   "cell_type": "code",
   "execution_count": 64,
   "metadata": {},
   "outputs": [
    {
     "name": "stdout",
     "output_type": "stream",
     "text": [
      "Multi-digit training error: 0.10681666666666667\n",
      "Multi-digit test error: 0.0995\n"
     ]
    }
   ],
   "source": [
    "multi_train_error = multi_digit_error(multi_train_predictions,y_train)\n",
    "multi_test_error = multi_digit_error(multi_test_predictions,y_test)\n",
    "print(\"Multi-digit training error: \"+ str(train_all_error))\n",
    "print(\"Multi-digit test error: \"+ str(test_all_error))"
   ]
  },
  {
   "cell_type": "markdown",
   "metadata": {},
   "source": [
    "The error on the training set is around 10.6% and is comparable to the 10% test set error. Both of these errors seem reasonable in the context of the performance of other learning algorithms as shown at: http://yann.lecun.com/exdb/mnist/. The error rate of a linear classifier is 12%. \n",
    "\n",
    "By comparing the training and test set errors, we can gain insight into the learning algorithm. If the training set error was small compared to the test set error, then the model would have high variance (overfitting). If the training set error was large compared to what we would expect the model to perform, then the model would have high bias (underfitting). Since the training and test set errors are very close, the model is does not have high variance, and since it is performing fairly well compared to the 12% error of a linear classifier, the model does not suffer from high bias, either. \n",
    "\n",
    "Adding regularization is a logical next step to improve the performance; however, since the model doesn't suffer from high variance, adding regularization is unlikely to improve the performance dramatically. Instead, it may be better to increase the model's complexity by turning it into a neural network and then add regularization, which will be be the next step in this exercise. "
   ]
  },
  {
   "cell_type": "markdown",
   "metadata": {},
   "source": [
    "Or instead, I may analzye the same problem using SVM's to buff up on their application."
   ]
  },
  {
   "cell_type": "code",
   "execution_count": null,
   "metadata": {},
   "outputs": [],
   "source": []
  }
 ],
 "metadata": {
  "kernelspec": {
   "display_name": "Python 3",
   "language": "python",
   "name": "python3"
  },
  "language_info": {
   "codemirror_mode": {
    "name": "ipython",
    "version": 3
   },
   "file_extension": ".py",
   "mimetype": "text/x-python",
   "name": "python",
   "nbconvert_exporter": "python",
   "pygments_lexer": "ipython3",
   "version": "3.7.3"
  }
 },
 "nbformat": 4,
 "nbformat_minor": 2
}
