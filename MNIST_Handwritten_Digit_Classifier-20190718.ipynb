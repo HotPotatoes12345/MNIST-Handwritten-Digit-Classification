{
 "cells": [
  {
   "cell_type": "markdown",
   "metadata": {},
   "source": [
    "# MNIST Handwritten Digit Classifier"
   ]
  },
  {
   "cell_type": "markdown",
   "metadata": {},
   "source": [
    "## Introduction"
   ]
  },
  {
   "cell_type": "markdown",
   "metadata": {},
   "source": [
    "This notebook uses an increasing number of different approachs to classify handwritten digits (zero through nine) in the MNIST dataset. A detailed description of the dataset and a catolog of previous analysis on the datset can be found here: http://yann.lecun.com/exdb/mnist/. The first approach applies logistic regression as a one-vs-all multi-class classification. This approach is fully developed and acheived around an 90% accuracy, which is expected for the simplicity of the logistic regression approach. The second approach, which is still under development, utilized a 3-layer neural network with a softmax function as the final activation layer. Currenlty, the outline of the code is written explicitly, but I plan to use Tensorflow to rewrite the code of the neural network. \n",
    "\n",
    "Acknowledgement: As with many people in the machine learning community, I am indebted to Andrew Ng for his courses on Coursera with Stanford and Deeplearning.ai for teaching me how to develop machine learning algorithms."
   ]
  },
  {
   "cell_type": "markdown",
   "metadata": {},
   "source": [
    "## Future Work"
   ]
  },
  {
   "cell_type": "markdown",
   "metadata": {},
   "source": [
    "Ideas for improvement\n",
    " - tune alpha (and lambda)\n",
    " - add regularization\n",
    " - Use other algorithms like\n",
    "     - apply neural networks w/ softmax\n",
    "     - apply SVM's\n",
    "     - apply kNN\n",
    "     - apply decision trees\n",
    " - implement Adam optimization"
   ]
  },
  {
   "cell_type": "code",
   "execution_count": 250,
   "metadata": {},
   "outputs": [],
   "source": [
    "import numpy as np\n",
    "from mlxtend.data import loadlocal_mnist\n",
    "import matplotlib.pyplot as plt\n",
    "import time\n",
    "import tensorflow as tf\n",
    "from tensorflow.python.framework import ops\n"
   ]
  },
  {
   "cell_type": "markdown",
   "metadata": {},
   "source": [
    "## The Dataset"
   ]
  },
  {
   "cell_type": "markdown",
   "metadata": {},
   "source": [
    "The dataset was downloaded from http://yann.lecun.com/exdb/mnist/ and then unzipped. The data was then processed using the mlxtend.data library outlined here:  https://rasbt.github.io/mlxtend/user_guide/data/loadlocal_mnist/"
   ]
  },
  {
   "cell_type": "code",
   "execution_count": 4,
   "metadata": {},
   "outputs": [],
   "source": [
    "X_train_org, y_train_org = loadlocal_mnist(\n",
    "        images_path='train-images-idx3-ubyte', \n",
    "        labels_path='train-labels-idx1-ubyte')\n",
    "\n",
    "X_test_org, y_test_org = loadlocal_mnist(\n",
    "        images_path='t10k-images-idx3-ubyte', \n",
    "        labels_path='t10k-labels-idx1-ubyte')"
   ]
  },
  {
   "cell_type": "markdown",
   "metadata": {},
   "source": [
    "The images of each digit are made up for 28 x 28 pixels (784 total), which have been reformatted into a single vector of length 784. There are 60,000 images in the training set and 10,000 in the test set. The y_train and y_test are oddly shaped, which is a concern, though it doesn't effect the analyis in the end. I tried to remedy this using the np.squeeze function, but it didn't work. "
   ]
  },
  {
   "cell_type": "code",
   "execution_count": 5,
   "metadata": {},
   "outputs": [
    {
     "name": "stdout",
     "output_type": "stream",
     "text": [
      "X_train dimensions: 60000 x 784\n",
      "y_train dimensions:(60000,)\n",
      "X_test dimensionss: 10000 x 784\n",
      "y_test dimensions:(10000,)\n",
      "Example of X_train: [[0 0 0 0 0 0 0 0 0 0 0 0 0 0 0]\n",
      " [0 0 0 0 0 0 0 0 0 0 0 0 0 0 0]\n",
      " [0 0 0 0 0 0 0 0 0 0 0 0 0 0 0]\n",
      " [0 0 0 0 0 0 0 0 0 0 0 0 0 0 0]\n",
      " [0 0 0 0 0 0 0 0 0 0 0 0 0 0 0]\n",
      " [0 0 0 0 0 0 0 0 0 0 0 0 0 0 0]\n",
      " [0 0 0 0 0 0 0 0 0 0 0 0 0 0 0]\n",
      " [0 0 0 0 0 0 0 0 0 0 0 0 0 0 0]\n",
      " [0 0 0 0 0 0 0 0 0 0 0 0 0 0 0]\n",
      " [0 0 0 0 0 0 0 0 0 0 0 0 0 0 0]\n",
      " [0 0 0 0 0 0 0 0 0 0 0 0 0 0 0]\n",
      " [0 0 0 0 0 0 0 0 0 0 0 0 0 0 0]\n",
      " [0 0 0 0 0 0 0 0 0 0 0 0 0 0 0]\n",
      " [0 0 0 0 0 0 0 0 0 0 0 0 0 0 0]\n",
      " [0 0 0 0 0 0 0 0 0 0 0 0 0 0 0]]\n",
      "Example of y_train: [5 0 4 1 9 2 1 3 1 4 3 5 3 6 1]\n"
     ]
    }
   ],
   "source": [
    "print('X_train dimensions: %s x %s' % (X_train_org.shape[0], X_train_org.shape[1]))\n",
    "print('y_train dimensions:'+ str(y_train_org.shape )) \n",
    "print('X_test dimensionss: %s x %s' % (X_test_org.shape[0], X_test_org.shape[1]))\n",
    "print('y_test dimensions:'+ str(y_test_org.shape )) \n",
    "print('Example of X_train:', X_train_org[0:15,0:15])\n",
    "print('Example of y_train:', y_train_org[0:15])"
   ]
  },
  {
   "cell_type": "markdown",
   "metadata": {},
   "source": [
    "Below are images of what a given example of the handwritten digits look like. "
   ]
  },
  {
   "cell_type": "code",
   "execution_count": 6,
   "metadata": {},
   "outputs": [
    {
     "data": {
      "text/plain": [
       "<matplotlib.image.AxesImage at 0x116aea550>"
      ]
     },
     "execution_count": 6,
     "metadata": {},
     "output_type": "execute_result"
    },
    {
     "data": {
      "image/png": "[encoded data removed]",
      "text/plain": [
       "<Figure size 432x288 with 1 Axes>"
      ]
     },
     "metadata": {
      "needs_background": "light"
     },
     "output_type": "display_data"
    }
   ],
   "source": [
    "example_number = 2\n",
    "img = X_train_org[example_number,:].reshape(28,28)\n",
    "plt.imshow(img, cmap='gray')"
   ]
  },
  {
   "cell_type": "markdown",
   "metadata": {},
   "source": [
    "The data is currently formatted with the rows being the nummber of examples, (m=60,000), and the columns being the features, (n=784). The analysis I will perform has the data transposed, with size n x m, which will be done below. Additionally, I have scaled the data to be within zero and 1 by dividing by 255, as the pixel values are 8-bit integers. \n",
    "I remedied the missing column values in y_train and y_test with by putting them inside a np.array and transposed the y-values as well. "
   ]
  },
  {
   "cell_type": "code",
   "execution_count": 7,
   "metadata": {},
   "outputs": [
    {
     "name": "stdout",
     "output_type": "stream",
     "text": [
      "(1, 60000)\n"
     ]
    }
   ],
   "source": [
    "X_train = X_train_org.T/255\n",
    "X_test = X_test_org.T/255\n",
    "\n",
    "y_train = np.array([y_train_org.T])\n",
    "print(y_train.shape)\n",
    "y_test = np.array([y_test_org.T])\n",
    "\n",
    "#training data for only the one-digit which will be used to test the single-digit classifier\n",
    "y_train_ones = y_train ==1\n",
    "y_test_ones = y_test ==1"
   ]
  },
  {
   "cell_type": "markdown",
   "metadata": {},
   "source": [
    "# 1) Logistic Regression using one-vs-all classification"
   ]
  },
  {
   "cell_type": "markdown",
   "metadata": {},
   "source": [
    "The methodology of using binary classification in one-vs-all multiclassification is outlined briefly here: http://mlwiki.org/index.php/One-vs-All_Classification. A binary classifier using logistic regression will be trained separately for each digit. This means that the dataset will be modified where only zero's are a positive result (y=1) and all other digits are a negative result (y=0). The binary classifier will then be trained to identify zero's (y=1) resulting in a weights matrix (generally denoted W, but denoted W0 for the weights of the zero classifier) and the bias vector, b (also denoted b0 for the zero classifier). \n",
    "\n",
    "10 classifiers will be trained for each digit each with their own weights (W) and bias (b). Then, each example will be run through the 10 classifiers and the classifier that yields the greatest value, indicating the strongest classification, will be chosen. Through this way, the entire dataset can be used to classified."
   ]
  },
  {
   "cell_type": "code",
   "execution_count": 8,
   "metadata": {},
   "outputs": [],
   "source": [
    "def initialize():\n",
    "    '''\n",
    "    Description\n",
    "    This funciton initializes the parameters in the classifier with the W-weights initialized to small random\n",
    "        numbers and the bias term, b, intialized to zeros.\n",
    "    \n",
    "    Input\n",
    "    For a simple classifier, no inputs are needed because there is only a single W matrix and a single b-vector.\n",
    "    For a neural network, separate weight matricies and bias vectors need to be created for each layer.\n",
    "    \n",
    "    Output\n",
    "    W - the weight matrix\n",
    "    b - the bias vector\n",
    "    \n",
    "    '''\n",
    "    \n",
    "    np.random.seed(2) #sets the seed of the random number generator\n",
    "    \n",
    "    W = np.random.randn(1, X_train.shape[0])*0.01\n",
    "    #the '[0]' term below is used to strip one set of square brackets off b so that its shape is consisent with db below\n",
    "    b = np.zeros((1,1))\n",
    "  \n",
    "    \n",
    "    #the assert statements are used to ensure the W and b matricies have the correct shape.\n",
    "    assert(W.shape == (1, X_train.shape[0]))\n",
    "    assert(b.shape == (1,1))\n",
    "        \n",
    "    return W, b\n",
    "    "
   ]
  },
  {
   "cell_type": "code",
   "execution_count": 9,
   "metadata": {},
   "outputs": [],
   "source": [
    "#this commmented command can be used to check the output of the initialize fuction\n",
    "#initialize()"
   ]
  },
  {
   "cell_type": "code",
   "execution_count": 10,
   "metadata": {},
   "outputs": [],
   "source": [
    "def sigmoid(x):\n",
    "    '''\n",
    "    Description\n",
    "    The sigmoid function, which is used in logistic regression.\n",
    "    \n",
    "    Input\n",
    "    A value or np.array, x\n",
    "    \n",
    "    Ouput\n",
    "    The sigmoid of the input\n",
    "    '''\n",
    "    \n",
    "    sig = 1/(1+np.exp(-x))\n",
    "    \n",
    "    return sig"
   ]
  },
  {
   "cell_type": "markdown",
   "metadata": {},
   "source": [
    "At large negative values, the sigmoid function outputs zero; at zero, the sigmoid outputs 0.5; and at large positive values, the sigmoid outputs one."
   ]
  },
  {
   "cell_type": "code",
   "execution_count": 11,
   "metadata": {},
   "outputs": [
    {
     "data": {
      "text/plain": [
       "array([4.53978687e-05, 5.00000000e-01, 9.99954602e-01])"
      ]
     },
     "execution_count": 11,
     "metadata": {},
     "output_type": "execute_result"
    }
   ],
   "source": [
    "sig_test = np.array([-10,0,10])\n",
    "sigmoid(sig_test)"
   ]
  },
  {
   "cell_type": "code",
   "execution_count": 12,
   "metadata": {},
   "outputs": [],
   "source": [
    "def forward_prop(W, b, X):\n",
    "    '''\n",
    "    Description\n",
    "    This function calculates the forward progagation of logistic regression. Here the activation function is\n",
    "        the sigmoid function\n",
    "    \n",
    "    Input\n",
    "    W - the weight matrix\n",
    "    b - the bias bector\n",
    "    X - the input data\n",
    "    \n",
    "    Output\n",
    "    Z - the linear multiplication of W and X added to the bias term, b\n",
    "    A - the activation value, which is the activation function computed on the Z-value\n",
    "    \n",
    "    '''\n",
    "    \n",
    "    Z = np.dot(W, X) + b\n",
    "    A = sigmoid(Z)    \n",
    "        \n",
    "    return A, Z"
   ]
  },
  {
   "cell_type": "markdown",
   "metadata": {},
   "source": [
    "The propagation function which conducts the forward propagation step, computes the cost function, and updates the W and b terms using gradient descent. Gradient descent is done by calculating the derivative of the cost function with respect to the W and b terms. This derivative is calculated using the chain rule. \n",
    "\n",
    "The best concise description I can find for this is here: https://medium.com/technology-nineleaps/logistic-regression-gradient-descent-optimization-part-1-ed320325a67e - through this article doesn't derive the derivative calculations, dW (which is shorthand for $\\partial$C/$\\partial$W where C is the cost funcition) and db (which is also $\\partial$C/$\\partial$b)."
   ]
  },
  {
   "cell_type": "code",
   "execution_count": 13,
   "metadata": {},
   "outputs": [],
   "source": [
    "def propagate(X, W, b, Y):\n",
    "    '''\n",
    "    Description:\n",
    "    Calls the forward_prop function top conduct forward propogation, calculates the cost function, and calculates\n",
    "        the derivatives of the cost function with respect to W and b to implement gradient descent to update W and b.\n",
    "    \n",
    "    Input:\n",
    "    X   - the training data\n",
    "    W   - the weights\n",
    "    \n",
    "\n",
    "    Output:\n",
    "    cost    - the cost function calculated\n",
    "    dW   - the gradient of the W-weight\n",
    "    db   - the gradient of the bias term, b\n",
    "    '''\n",
    "    \n",
    "\n",
    "    A, Z = forward_prop(W, b, X)\n",
    "    \n",
    "    m = A.shape[1]\n",
    "    \n",
    "    #calculating the cost function of logistic regressions\n",
    "    cost = -1/m * np.sum(Y * np.log(A) + (1 - Y) * np.log(1-A), axis=1) \n",
    "    \n",
    "    #calculates the gradients of W and b\n",
    "    dW = 2/m * np.dot(A - Y, X.T)\n",
    "    db = np.array([1/m * np.sum(A - Y, axis=1)])\n",
    "    #print(db.shape)\n",
    "    \n",
    "    assert(dW.shape == W.shape)\n",
    "    assert(db.shape == b.shape)\n",
    "\n",
    "            \n",
    "    return cost, dW, db"
   ]
  },
  {
   "cell_type": "code",
   "execution_count": 132,
   "metadata": {},
   "outputs": [],
   "source": [
    "def single_digit_classifier(X_train, Y_train, learning_rate=0.1, iterations = 1000, print_cost = True):\n",
    "    '''\n",
    "    Description\n",
    "    Runs the logistic regression for a single digit\n",
    "\n",
    "    Inputs\n",
    "    X_train - the input features of the training data\n",
    "    Y_train - the labels of the digits in the training set\n",
    "    learning_rate - the learning rate used in gradient descent, set to 0.1 by default\n",
    "    iternations - the number of iterations of the gradient descent, set to 500 by default\n",
    "    print_cost - a binary label to see if the cost of of every 100 iterations will be printed\n",
    "    \n",
    "    Outputs\n",
    "    W - the final value of the W-weight optimized by gradient descent\n",
    "    b - the final value of the b bias term optimized by gradient descent\n",
    "    costs - a list of the costs calculated over the iterations\n",
    "    \n",
    "    '''\n",
    "    \n",
    "    costs = []\n",
    "    W, b = initialize()\n",
    "    \n",
    "    for i in range(iterations):\n",
    "\n",
    "        cost, dW, db = propagate(X_train, W, b, Y_train)\n",
    "        \n",
    "        W = W - learning_rate * dW\n",
    "        b = b - learning_rate * db\n",
    "        \n",
    "        \n",
    "        if print_cost and i % 200 == 0:\n",
    "            print('Cost for ' + str(i) + '= ' + str(cost) ) \n",
    "        \n",
    "        if print_cost and i % 10 == 0:\n",
    "            costs.append(cost)\n",
    "            \n",
    "    if print_cost : \n",
    "        plt.plot(costs)\n",
    "        plt.ylabel('Costs')\n",
    "        plt.xlabel('Iterations (x10)')\n",
    "        plt.title(\"Learning rate is: \"+ str(learning_rate))\n",
    "        plt.show()\n",
    "    \n",
    "    return W, b, costs"
   ]
  },
  {
   "cell_type": "code",
   "execution_count": 134,
   "metadata": {},
   "outputs": [
    {
     "name": "stdout",
     "output_type": "stream",
     "text": [
      "Cost for 0= [0.6539679]\n",
      "Cost for 200= [0.04773371]\n",
      "Cost for 400= [0.04133387]\n",
      "Cost for 600= [0.03861992]\n",
      "Cost for 800= [0.03699522]\n"
     ]
    },
    {
     "data": {
      "image/png": "[encoded data removed]",
      "text/plain": [
       "<Figure size 432x288 with 1 Axes>"
      ]
     },
     "metadata": {
      "needs_background": "light"
     },
     "output_type": "display_data"
    }
   ],
   "source": [
    "sd  = single_digit_classifier(X_train, y_train_ones)"
   ]
  },
  {
   "cell_type": "markdown",
   "metadata": {},
   "source": [
    "Based on the long tail of the cost functions exponential decrease, we can safely say that gradient descent has run through a sufficient number of iternations. If without seeing the long tail, we likely could increase the algorithm's performance by running gradient descent for more iterations."
   ]
  },
  {
   "cell_type": "code",
   "execution_count": 39,
   "metadata": {},
   "outputs": [],
   "source": [
    "def single_digit_error(X,W,b, y):\n",
    "    '''\n",
    "    Description\n",
    "    Calculates the error of the predictions for the single digit classifier. In this function, the classifier is\n",
    "        seen to \"predict\" a certain value if the A-values are greater than 0.5, which is the classification threshold.\n",
    "        This will not be how the error is calculate or how prediction is calculated with multiple digits. \n",
    "    \n",
    "    Inputs\n",
    "    The usual suspects\n",
    "    \n",
    "    Ouput\n",
    "    The error term which is the average deviation of the predictions from the y-labels\n",
    "    '''\n",
    "    \n",
    "    A, Z = forward_prop(W,b,X)\n",
    "    \n",
    "    predictions = A>0.5*1.0\n",
    "    \n",
    "    m = predictions.shape[1]\n",
    "    \n",
    "    error = 1/m * np.sum(predictions!=y)\n",
    "    \n",
    "    return error"
   ]
  },
  {
   "cell_type": "markdown",
   "metadata": {},
   "source": [
    "Running the error function for the single digit classifier"
   ]
  },
  {
   "cell_type": "code",
   "execution_count": 40,
   "metadata": {},
   "outputs": [
    {
     "name": "stdout",
     "output_type": "stream",
     "text": [
      "Training set error:  0.010833333333333334\n",
      "Test set error:  0.008\n"
     ]
    }
   ],
   "source": [
    "single_train_error = single_digit_error(X_train, sd[0], sd[1], y_train_ones)\n",
    "single_test_error = single_digit_error(X_test, sd[0], sd[1], y_test_ones)\n",
    "print('Training set error: ', single_train_error)\n",
    "print('Test set error: ', single_test_error)\n"
   ]
  },
  {
   "cell_type": "markdown",
   "metadata": {},
   "source": [
    "The method of making predictions in the single_digit_error calculator is likely inaccurate as the training set error and test set errors are too small when seen in the context of the performance of other learning algorithms on this dataset, as shown here: http://yann.lecun.com/exdb/mnist/. The lowest error on the dataset was 0.23 from using a 35 layer neural network. Granted, the error calculated above is only for classifying a single digit, while the 0.23 is for classifying all digits. One potential reason why our single digit classifer is doing so well could be do to the low frequency of positive events (y=1). There are around 6,500 ones in the dataset, which is roughly 10% of the dataset, which means that even if no learning occured and the algorithm always predicted a y=0, it would have a 10% error rate. \n",
    "\n",
    "I won't spend too much time disecting the reason for the low error rate, as simply classifying ones is only 1/10 of the stated mission. "
   ]
  },
  {
   "cell_type": "markdown",
   "metadata": {},
   "source": [
    "## Multi-digit Classifier"
   ]
  },
  {
   "cell_type": "code",
   "execution_count": 140,
   "metadata": {},
   "outputs": [],
   "source": [
    "def multi_digit_classifier(X_train, y_train, learning_rate):\n",
    "    '''\n",
    "    Description\n",
    "    This function calls the single_digit_classifier fuction on every number in the data set (0-9), which generates\n",
    "    W and b values for each digit. \n",
    "    \n",
    "    Input\n",
    "    X_train - the features in the training set\n",
    "    y_train - the labels of the features in the training set\n",
    "    learning_rate - the learing rate used in gradient descent - it is an input to the single_digit_classifier\n",
    "    \n",
    "    Output\n",
    "    parameters - a dictionary of the W and b parameters for each digit classifier with labels 'W0' for the \n",
    "        W-weight of the zero classifier and 'b0' for the b-term of the zero classifier.\n",
    "        \n",
    "    '''\n",
    "    \n",
    "    parameters = {}\n",
    "#    cost_dic = {}\n",
    "    m = X_train.shape[1]\n",
    "    \n",
    "    for i in range(10):\n",
    "        y_train_temp = y_train ==i\n",
    "        W, b, costs = single_digit_classifier(X_train, y_train_temp, learning_rate, print_cost=False)\n",
    "        parameters['W_'+str(i)] = W\n",
    "        parameters['b_'+str(i)] = b\n",
    "#        costs['costs_'+str(i)] = costs\n",
    "\n",
    "\n",
    "    return parameters"
   ]
  },
  {
   "cell_type": "markdown",
   "metadata": {},
   "source": [
    "Running the multi-digit classifier. The classifier takes almost 3 minutes to run, which doesn't bode well for parameter tuning. In future work, I may consider how to reduce the number of for-loops to try to speed up the computation time."
   ]
  },
  {
   "cell_type": "code",
   "execution_count": 141,
   "metadata": {
    "scrolled": true
   },
   "outputs": [
    {
     "name": "stdout",
     "output_type": "stream",
     "text": [
      "Minutes to run classifier:  6.717435685793559\n"
     ]
    }
   ],
   "source": [
    "time1 = time.time()\n",
    "multi_digit_parameters = multi_digit_classifier(X_train, y_train, learning_rate=0.1)\n",
    "time2 = time.time()\n",
    "print('Minutes to run classifier: ', (time2-time1)/60 )"
   ]
  },
  {
   "cell_type": "code",
   "execution_count": 148,
   "metadata": {},
   "outputs": [],
   "source": [
    "def multi_digit_predict(parameters, X):\n",
    "    '''\n",
    "    Description\n",
    "    This function uses the parameters of the multi_digit_classifier to calculate the A-values for each single \n",
    "        digit classifier and takes the digit with the maximum A-value as the predicted digit.\n",
    "    \n",
    "    Input\n",
    "    parameters - the W and b values for each single digit classifier outputted from the multi_digit_classifier\n",
    "    X          - the the feature data that will be used along with the parameters to calculate the A-values \n",
    "    \n",
    "    Output\n",
    "    predictions - a list of the predicted numbers for each of the examples in the dataset, X\n",
    "    \n",
    "    '''\n",
    "    \n",
    "    A_values, Z = forward_prop(parameters['W_'+str(0)], parameters['b_'+str(0)], X)\n",
    "    for i in range(1,10):\n",
    "        A_temp, Z = forward_prop(parameters['W_'+str(i)], parameters['b_'+str(i)], X)\n",
    "        A_values = np.append(A_values, A_temp, axis=0)\n",
    "    \n",
    "    predictions = []\n",
    "    for j in range(X.shape[1]):\n",
    "        predictions.append(np.argmax(A_values[:,j]))\n",
    "    \n",
    "    assert(len(predictions) == X.shape[1])\n",
    "    \n",
    "    return predictions"
   ]
  },
  {
   "cell_type": "code",
   "execution_count": 149,
   "metadata": {},
   "outputs": [
    {
     "name": "stdout",
     "output_type": "stream",
     "text": [
      "A sample of the predictions:  [5, 0, 4, 1, 9, 2, 1, 3, 1, 4, 3, 5, 3, 6, 1]\n"
     ]
    }
   ],
   "source": [
    "multi_train_predictions = multi_digit_predict(multi_digit_parameters, X_train)\n",
    "multi_test_predictions = multi_digit_predict(multi_digit_parameters, X_test)\n",
    "\n",
    "print('A sample of the predictions: ',multi_train_predictions[0:15])"
   ]
  },
  {
   "cell_type": "code",
   "execution_count": 150,
   "metadata": {},
   "outputs": [],
   "source": [
    "def multi_digit_error(predictions, y):\n",
    "    '''\n",
    "    Description\n",
    "    This function calculates the error for the multi_digit_classifier my taking the average number of incorrrect\n",
    "    classifications of the y-labels in the training set.\n",
    "    \n",
    "    Inputs\n",
    "    predictions - the predictions of the digits in each image, the output the multi_digit_predict function\n",
    "    y - the labels of the training set data\n",
    "    \n",
    "    Outputs\n",
    "    error - the average number of incorrect classifications\n",
    "    \n",
    "    '''\n",
    "    \n",
    "    m = len(predictions)\n",
    "    error = 1/m * np.sum(predictions!=y)\n",
    "    \n",
    "    return error"
   ]
  },
  {
   "cell_type": "code",
   "execution_count": 152,
   "metadata": {
    "scrolled": true
   },
   "outputs": [
    {
     "name": "stdout",
     "output_type": "stream",
     "text": [
      "Multi-digit training error: 0.09856666666666668\n",
      "Multi-digit test error: 0.0921\n"
     ]
    }
   ],
   "source": [
    "multi_train_error = multi_digit_error(multi_train_predictions,y_train)\n",
    "multi_test_error = multi_digit_error(multi_test_predictions,y_test)\n",
    "print(\"Multi-digit training error: \"+ str(multi_train_error))\n",
    "print(\"Multi-digit test error: \"+ str(multi_test_error))"
   ]
  },
  {
   "cell_type": "markdown",
   "metadata": {},
   "source": [
    "## Logistic Regression Discussion"
   ]
  },
  {
   "cell_type": "markdown",
   "metadata": {},
   "source": [
    "The error on the training set is around 9.9% and is comparable to the 9.2% test set error. Both of these errors seem reasonable in the context of the performance of other learning algorithms as shown at: http://yann.lecun.com/exdb/mnist/. The error rate of a linear classifier is 12%. \n",
    "\n",
    "By comparing the training and test set errors, we can gain insight into the learning algorithm. If the training set error was small compared to the test set error, then the model would have high variance (overfitting). If the training set error was large compared to what we would expect the model to perform, then the model would have high bias (underfitting). Since the training and test set errors are very close, the model is does not have high variance, and since it is performing fairly well compared to the 12% error of a linear classifier, the model does not suffer from high bias, either. \n",
    "\n",
    "Adding regularization is a logical next step to improve the performance; however, since the model doesn't suffer from high variance, adding regularization is unlikely to improve the performance dramatically. Instead, it may be better to increase the model's complexity by turning it into a neural network and then add regularization, which will be be the next step in this exercise. "
   ]
  },
  {
   "cell_type": "markdown",
   "metadata": {},
   "source": [
    "Or instead, I may analzye the same problem using SVM's to buff up on their application."
   ]
  },
  {
   "cell_type": "markdown",
   "metadata": {},
   "source": [
    "# 2) Neural Network Approach using Softmax in Tensorflow"
   ]
  },
  {
   "cell_type": "markdown",
   "metadata": {},
   "source": [
    "The code below will use a 3-layer neural network to analyze the handwritten digit dataset. I plan to rewrite the outline of the code below using Tensorflow to have a 3 layer neural network with two layers using a relu activation function and the final layer using a softmax activation function. Coming soon..."
   ]
  },
  {
   "cell_type": "code",
   "execution_count": 168,
   "metadata": {},
   "outputs": [
    {
     "data": {
      "text/plain": [
       "[784, 20, 9, 9]"
      ]
     },
     "execution_count": 168,
     "metadata": {},
     "output_type": "execute_result"
    }
   ],
   "source": [
    "#defines the size of the neural network\n",
    "layers_dims = [X_train.shape[0], 20, 9, 9]\n",
    "layers_dims"
   ]
  },
  {
   "cell_type": "code",
   "execution_count": 175,
   "metadata": {},
   "outputs": [
    {
     "name": "stdout",
     "output_type": "stream",
     "text": [
      "n_x:  784\n",
      "n_y:  10\n"
     ]
    }
   ],
   "source": [
    "n_x, n_y = 784, 10 #the input size and label size, respecitively\n",
    "print('n_x: ', n_x)\n",
    "print('n_y: ', n_y)"
   ]
  },
  {
   "cell_type": "code",
   "execution_count": 169,
   "metadata": {},
   "outputs": [],
   "source": [
    "def create_placeholders(n_x, n_y):\n",
    "    '''\n",
    "    Description:\n",
    "    This creates the placeholders of the tensorflow session.\n",
    "    \n",
    "    Inputs:\n",
    "    n_x -- a scalar of the image size (784 pixels)\n",
    "    n_y -- a scalar of the number of classes (10 numbers)\n",
    "    \n",
    "    Outputs:\n",
    "    X -- a tf placeholder for the input data of shape [n_x, None] and data type float32\n",
    "    Y -- a tf placeholder for the input labels of shape [n_y, None] and data type float32\n",
    "    '''\n",
    "    \n",
    "    X = tf.placeholder(dtype=tf.float32, shape = [n_x, None], name='X')\n",
    "    Y = tf.placeholder(dtype=tf.float32, shape = [n_y, None], name='Y')\n",
    "    \n",
    "    return X, Y"
   ]
  },
  {
   "cell_type": "code",
   "execution_count": 176,
   "metadata": {},
   "outputs": [
    {
     "name": "stdout",
     "output_type": "stream",
     "text": [
      "X = Tensor(\"X:0\", shape=(784, ?), dtype=float32)\n",
      "Y = Tensor(\"Y:0\", shape=(10, ?), dtype=float32)\n"
     ]
    }
   ],
   "source": [
    "X, Y = create_placeholders(n_x, n_y)\n",
    "print (\"X = \" + str(X))\n",
    "print (\"Y = \" + str(Y))"
   ]
  },
  {
   "cell_type": "code",
   "execution_count": 177,
   "metadata": {},
   "outputs": [],
   "source": [
    "def nn_initialize(layers_dims):\n",
    "    '''\n",
    "    Description: \n",
    "    Initializes the parameters in neural network based on the size of layers_dims where each value of layers_dims \n",
    "        specifies the number of neurons in each layer\n",
    "        \n",
    "    Input:\n",
    "    layers_dims -- a list that defins the number of layers and the number of hidden units in each layer \n",
    "        - shape (1 x number of layers + 1)\n",
    "        \n",
    "    Ouptut:\n",
    "    parameters -- a dictionary of the intialize parameters for the nueral network\n",
    "    \n",
    "    **Note: try comparing random normal and Xavier distribution for initialization\n",
    "    '''\n",
    "    \n",
    "    ld = layers_dims # an abbreviation for layers_dims\n",
    "    parameters = {}\n",
    "    \n",
    "    for l in range(1, len(layers_dims)):\n",
    "        parameters['W'+str(l)] = tf.get_variable('W'+str(l), [ld[l], ld[l-1]], initializer = tf.contrib.layers.xavier_initializer(seed = 1))\n",
    "        parameters['b'+str(l)] = tf.get_variable('b'+str(l), [ld[l], 1], initializer = tf.zeros_initializer())\n",
    "\n",
    "    return parameters\n"
   ]
  },
  {
   "cell_type": "code",
   "execution_count": 178,
   "metadata": {},
   "outputs": [
    {
     "name": "stdout",
     "output_type": "stream",
     "text": [
      "<tf.Variable 'W1:0' shape=(20, 784) dtype=float32_ref>\n",
      "<tf.Variable 'b1:0' shape=(20, 1) dtype=float32_ref>\n",
      "<tf.Variable 'W2:0' shape=(9, 20) dtype=float32_ref>\n",
      "<tf.Variable 'b2:0' shape=(9, 1) dtype=float32_ref>\n",
      "<tf.Variable 'W3:0' shape=(9, 9) dtype=float32_ref>\n",
      "<tf.Variable 'b3:0' shape=(9, 1) dtype=float32_ref>\n"
     ]
    }
   ],
   "source": [
    "tf.reset_default_graph()\n",
    "with tf.Session() as sess:\n",
    "    parameters = nn_initialize(layers_dims)\n",
    "    for l in range(1,len(layers_dims)):\n",
    "        print(parameters['W'+str(l)])\n",
    "        print(parameters['b'+str(l)])"
   ]
  },
  {
   "cell_type": "code",
   "execution_count": 236,
   "metadata": {},
   "outputs": [],
   "source": [
    "def nn_forward_prop(X, parameters):\n",
    "    '''“\n",
    "    Description:\n",
    "    Performs the forward propagation steps of the neural network using the relu activiation function\n",
    "    \n",
    "    Inputs:\n",
    "    X -- the input data, of shape (784 x # examples)\n",
    "    parameters -- a dictionary of the parameters of the neural network, mainly W matricies and b vectors \n",
    "        where the weights and bias terms of the first layer have the keys 'W1' and 'b1', respectively.““\n",
    "    \n",
    "    Outputs:\n",
    "    Z_L -- the linear combination of the final layer, which will be fed into the tensorflow cost function,\n",
    "        of shape (# classes (10) x # examples)\n",
    "    \n",
    "    '''\n",
    "    \n",
    "    \n",
    "    cache = {'A0':X} #dictionary of the hidden linear and activation layers where the first A0 is X, the input data\n",
    "    L = len(parameters)//2 # the number of layers in the neural network\n",
    "    \n",
    "    for l in range(1, L): #the loop stops at the L-1 layer because the final activiation layer\n",
    "        W_l = parameters['W'+str(l)]\n",
    "        b_l = parameters['b'+str(l)] #unpacking the W and b terms to make the linear combination more readable\n",
    "        A_prev = cache['A'+str(l-1)] #the previous activation layer value. For l=1, A_prev = A0 = X\n",
    "        cache['Z'+str(l)] = tf.add( tf.matmul(W_l, A_prev), b_l )\n",
    "        cache['A'+str(l)] = tf.nn.relu(cache['Z'+str(l)])\n",
    "    \n",
    "    cache['Z'+str(L)] = tf.add( tf.matmul(parameters['W'+str(L)], cache['A'+str(L-1)]), parameters['b'+str(L)] )\n",
    "    Z_L = cache['Z'+str(L)]\n",
    "    \n",
    "    return Z_L, cache"
   ]
  },
  {
   "cell_type": "code",
   "execution_count": 237,
   "metadata": {},
   "outputs": [
    {
     "name": "stdout",
     "output_type": "stream",
     "text": [
      "Z_L = Tensor(\"Add_2:0\", shape=(9, ?), dtype=float32)\n"
     ]
    }
   ],
   "source": [
    "tf.reset_default_graph()\n",
    "\n",
    "with tf.Session() as sess:\n",
    "    X, Y = create_placeholders(n_x, n_y)\n",
    "    parameters = nn_initialize(layers_dims)\n",
    "    Z_L, cache = nn_forward_prop(X, parameters)\n",
    "    print(\"Z_L = \" + str(Z_L))"
   ]
  },
  {
   "cell_type": "code",
   "execution_count": 262,
   "metadata": {},
   "outputs": [],
   "source": [
    "def compute_cost(Z_L, Y):\n",
    "    '''\n",
    "    Description:\n",
    "    Creates a tensor of softmax cost function\n",
    "    \n",
    "    Inputs:\n",
    "    Z_L  --  the linear unit of the last layer in the neural network, of shape (# classes (10) x # examples)\n",
    "    Y    --  the input labels, of shape (10, # examples)\n",
    "    \n",
    "    Outputs:\n",
    "    cost -- the tensor of the cost function\n",
    "    '''\n",
    "    \n",
    "    #transposes the inputs to fit the needed dimensions of the softmax cost function\n",
    "    logits = tf.transpose(Z_L)\n",
    "    labels = tf.transpose(Y)\n",
    "    \n",
    "    cost = tf.reduce_mean(tf.nn.softmax_cross_entropy_with_logits(logits = logits, labels = labels))\n",
    "    \n",
    "    return cost"
   ]
  },
  {
   "cell_type": "code",
   "execution_count": 263,
   "metadata": {},
   "outputs": [
    {
     "name": "stdout",
     "output_type": "stream",
     "text": [
      "cost = Tensor(\"Mean:0\", shape=(), dtype=float32)\n"
     ]
    }
   ],
   "source": [
    "tf.reset_default_graph()\n",
    "\n",
    "with tf.Session() as sess:\n",
    "    X, Y = create_placeholders(n_x, n_y)\n",
    "    parameters = nn_initialize(layers_dims)\n",
    "    Z_L, cache = nn_forward_prop(X, parameters)\n",
    "    cost = compute_cost(Z_L, Y)\n",
    "    print(\"cost = \" + str(cost))"
   ]
  },
  {
   "cell_type": "code",
   "execution_count": 260,
   "metadata": {},
   "outputs": [],
   "source": [
    "def model(layers_dims, X_train, Y_train, X_test, Y_test, learning_rate = 0.0001, iterations=100, print_cost=True):\n",
    "    '''\n",
    "    Description:\n",
    "    The neural network optimization model\n",
    "    \n",
    "    Inputs:\n",
    "    \n",
    "    iternations -- a scalar, nummber of iterations of the optimization algorithm\n",
    "    print_cost  -- a boolean, if True the algorithm will print the cost over a certain number of iterations\n",
    "    \n",
    "    \n",
    "    Outputs:\n",
    "    \n",
    "    Note: test performance using Adam optimization versus gradient descent\n",
    "    Note1: Incorporate mini-batches into optimization\n",
    "    '''\n",
    "    \n",
    "    #the code below was taken more directly from the Deeplearning.ai course Improving Neural Networks\n",
    "    #as I am still learning the ropes of tensorflow\n",
    "    \n",
    "    ops.reset_default_graph()           # to be able to rerun the model without overwriting tf variables\n",
    "    tf.set_random_seed(1)               # to keep consistent results\n",
    "    seed = 3                            # to keep consistent results\n",
    "    (n_x, m) = X_train.shape            # (n_x: input size, m : number of examples in the train set)\n",
    "    n_y = Y_train.shape[0]              # n_y : output size\n",
    "    costs = []                          # To keep track of the cost\n",
    "    \n",
    "    X, Y = create_placeholders(n_x, n_y)\n",
    "    \n",
    "    parameters = nn_initialize(layers_dims)\n",
    "    \n",
    "    Z_L, _ = nn_forward_prop(X, parameters)\n",
    "    \n",
    "    cost = compute_cost(Z_L, Y)\n",
    "    \n",
    "    optimizer = tf.train.AdamOptimizer(learning_rate = learning_rate).minimize(cost)\n",
    "\n",
    "    init = tf.global_variables_initializer()\n",
    "    \n",
    "    with tf.Session() as sess:\n",
    "\n",
    "        sess.run(init)\n",
    "        \n",
    "        for i in range(iterations):\n",
    "            \n",
    "            _ , iter_cost = sess.run([optimizer, cost], feed_dict={X:X_train, Y:Y_train})\n",
    "\n",
    "            if print_cost == True and i % 10 == 0:\n",
    "                print (\"Cost after iteration %i: %f\" % (i, iter_cost))\n",
    "            if print_cost == True and i % 10 == 0:\n",
    "                costs.append(iter_cost)\n",
    "                \n",
    "        \n",
    "        plt.plot(np.squeeze(costs))\n",
    "        plt.ylabel('cost')\n",
    "        plt.xlabel('iterations (per tens)')\n",
    "        plt.title(\"Learning rate =\" + str(learning_rate))\n",
    "        plt.show()\n",
    "        \n",
    "        parameters = sess.run(parameters)\n",
    "        \n",
    "        correct_prediction = tf.equal(tf.argmax(Z_L), tf.argmax(Y))\n",
    "        \n",
    "        accuracy = tf.reduce_mean(tf.cast(correct_prediction, 'float'))\n",
    "        \n",
    "        print('Train Accuracy: ', accuracy.eval({X:X_train, Y:Y_train} ) )\n",
    "        print('Test Accuracy: ', accuracy.eval({X:X_test, Y:Y_test} ) )\n",
    "        \n",
    "    return parameters"
   ]
  },
  {
   "cell_type": "code",
   "execution_count": 261,
   "metadata": {},
   "outputs": [
    {
     "name": "stdout",
     "output_type": "stream",
     "text": [
      "Cost after iteration 0: 88.562668\n",
      "Cost after iteration 10: 88.546799\n",
      "Cost after iteration 20: 88.727905\n",
      "Cost after iteration 30: 89.198502\n",
      "Cost after iteration 40: 89.910614\n"
     ]
    },
    {
     "ename": "KeyboardInterrupt",
     "evalue": "",
     "output_type": "error",
     "traceback": [
      "\u001b[0;31m---------------------------------------------------------------------------\u001b[0m",
      "\u001b[0;31mKeyboardInterrupt\u001b[0m                         Traceback (most recent call last)",
      "\u001b[0;32m<ipython-input-261-b62c4d1cc685>\u001b[0m in \u001b[0;36m<module>\u001b[0;34m\u001b[0m\n\u001b[0;32m----> 1\u001b[0;31m \u001b[0mparameters\u001b[0m \u001b[0;34m=\u001b[0m \u001b[0mmodel\u001b[0m\u001b[0;34m(\u001b[0m\u001b[0mlayers_dims\u001b[0m\u001b[0;34m,\u001b[0m \u001b[0mX_train\u001b[0m\u001b[0;34m,\u001b[0m \u001b[0my_train\u001b[0m\u001b[0;34m,\u001b[0m \u001b[0mX_test\u001b[0m\u001b[0;34m,\u001b[0m \u001b[0my_test\u001b[0m\u001b[0;34m)\u001b[0m\u001b[0;34m\u001b[0m\u001b[0;34m\u001b[0m\u001b[0m\n\u001b[0m",
      "\u001b[0;32m<ipython-input-260-eae4c37dda19>\u001b[0m in \u001b[0;36mmodel\u001b[0;34m(layers_dims, X_train, Y_train, X_test, Y_test, learning_rate, iterations, print_cost)\u001b[0m\n\u001b[1;32m     44\u001b[0m         \u001b[0;32mfor\u001b[0m \u001b[0mi\u001b[0m \u001b[0;32min\u001b[0m \u001b[0mrange\u001b[0m\u001b[0;34m(\u001b[0m\u001b[0miterations\u001b[0m\u001b[0;34m)\u001b[0m\u001b[0;34m:\u001b[0m\u001b[0;34m\u001b[0m\u001b[0;34m\u001b[0m\u001b[0m\n\u001b[1;32m     45\u001b[0m \u001b[0;34m\u001b[0m\u001b[0m\n\u001b[0;32m---> 46\u001b[0;31m             \u001b[0m_\u001b[0m \u001b[0;34m,\u001b[0m \u001b[0miter_cost\u001b[0m \u001b[0;34m=\u001b[0m \u001b[0msess\u001b[0m\u001b[0;34m.\u001b[0m\u001b[0mrun\u001b[0m\u001b[0;34m(\u001b[0m\u001b[0;34m[\u001b[0m\u001b[0moptimizer\u001b[0m\u001b[0;34m,\u001b[0m \u001b[0mcost\u001b[0m\u001b[0;34m]\u001b[0m\u001b[0;34m,\u001b[0m \u001b[0mfeed_dict\u001b[0m\u001b[0;34m=\u001b[0m\u001b[0;34m{\u001b[0m\u001b[0mX\u001b[0m\u001b[0;34m:\u001b[0m\u001b[0mX_train\u001b[0m\u001b[0;34m,\u001b[0m \u001b[0mY\u001b[0m\u001b[0;34m:\u001b[0m\u001b[0mY_train\u001b[0m\u001b[0;34m}\u001b[0m\u001b[0;34m)\u001b[0m\u001b[0;34m\u001b[0m\u001b[0;34m\u001b[0m\u001b[0m\n\u001b[0m\u001b[1;32m     47\u001b[0m \u001b[0;34m\u001b[0m\u001b[0m\n\u001b[1;32m     48\u001b[0m             \u001b[0;32mif\u001b[0m \u001b[0mprint_cost\u001b[0m \u001b[0;34m==\u001b[0m \u001b[0;32mTrue\u001b[0m \u001b[0;32mand\u001b[0m \u001b[0mi\u001b[0m \u001b[0;34m%\u001b[0m \u001b[0;36m10\u001b[0m \u001b[0;34m==\u001b[0m \u001b[0;36m0\u001b[0m\u001b[0;34m:\u001b[0m\u001b[0;34m\u001b[0m\u001b[0;34m\u001b[0m\u001b[0m\n",
      "\u001b[0;32m/usr/local/lib/python3.7/site-packages/tensorflow/python/client/session.py\u001b[0m in \u001b[0;36mrun\u001b[0;34m(self, fetches, feed_dict, options, run_metadata)\u001b[0m\n\u001b[1;32m    948\u001b[0m     \u001b[0;32mtry\u001b[0m\u001b[0;34m:\u001b[0m\u001b[0;34m\u001b[0m\u001b[0;34m\u001b[0m\u001b[0m\n\u001b[1;32m    949\u001b[0m       result = self._run(None, fetches, feed_dict, options_ptr,\n\u001b[0;32m--> 950\u001b[0;31m                          run_metadata_ptr)\n\u001b[0m\u001b[1;32m    951\u001b[0m       \u001b[0;32mif\u001b[0m \u001b[0mrun_metadata\u001b[0m\u001b[0;34m:\u001b[0m\u001b[0;34m\u001b[0m\u001b[0;34m\u001b[0m\u001b[0m\n\u001b[1;32m    952\u001b[0m         \u001b[0mproto_data\u001b[0m \u001b[0;34m=\u001b[0m \u001b[0mtf_session\u001b[0m\u001b[0;34m.\u001b[0m\u001b[0mTF_GetBuffer\u001b[0m\u001b[0;34m(\u001b[0m\u001b[0mrun_metadata_ptr\u001b[0m\u001b[0;34m)\u001b[0m\u001b[0;34m\u001b[0m\u001b[0;34m\u001b[0m\u001b[0m\n",
      "\u001b[0;32m/usr/local/lib/python3.7/site-packages/tensorflow/python/client/session.py\u001b[0m in \u001b[0;36m_run\u001b[0;34m(self, handle, fetches, feed_dict, options, run_metadata)\u001b[0m\n\u001b[1;32m   1171\u001b[0m     \u001b[0;32mif\u001b[0m \u001b[0mfinal_fetches\u001b[0m \u001b[0;32mor\u001b[0m \u001b[0mfinal_targets\u001b[0m \u001b[0;32mor\u001b[0m \u001b[0;34m(\u001b[0m\u001b[0mhandle\u001b[0m \u001b[0;32mand\u001b[0m \u001b[0mfeed_dict_tensor\u001b[0m\u001b[0;34m)\u001b[0m\u001b[0;34m:\u001b[0m\u001b[0;34m\u001b[0m\u001b[0;34m\u001b[0m\u001b[0m\n\u001b[1;32m   1172\u001b[0m       results = self._do_run(handle, final_targets, final_fetches,\n\u001b[0;32m-> 1173\u001b[0;31m                              feed_dict_tensor, options, run_metadata)\n\u001b[0m\u001b[1;32m   1174\u001b[0m     \u001b[0;32melse\u001b[0m\u001b[0;34m:\u001b[0m\u001b[0;34m\u001b[0m\u001b[0;34m\u001b[0m\u001b[0m\n\u001b[1;32m   1175\u001b[0m       \u001b[0mresults\u001b[0m \u001b[0;34m=\u001b[0m \u001b[0;34m[\u001b[0m\u001b[0;34m]\u001b[0m\u001b[0;34m\u001b[0m\u001b[0;34m\u001b[0m\u001b[0m\n",
      "\u001b[0;32m/usr/local/lib/python3.7/site-packages/tensorflow/python/client/session.py\u001b[0m in \u001b[0;36m_do_run\u001b[0;34m(self, handle, target_list, fetch_list, feed_dict, options, run_metadata)\u001b[0m\n\u001b[1;32m   1348\u001b[0m     \u001b[0;32mif\u001b[0m \u001b[0mhandle\u001b[0m \u001b[0;32mis\u001b[0m \u001b[0;32mNone\u001b[0m\u001b[0;34m:\u001b[0m\u001b[0;34m\u001b[0m\u001b[0;34m\u001b[0m\u001b[0m\n\u001b[1;32m   1349\u001b[0m       return self._do_call(_run_fn, feeds, fetches, targets, options,\n\u001b[0;32m-> 1350\u001b[0;31m                            run_metadata)\n\u001b[0m\u001b[1;32m   1351\u001b[0m     \u001b[0;32melse\u001b[0m\u001b[0;34m:\u001b[0m\u001b[0;34m\u001b[0m\u001b[0;34m\u001b[0m\u001b[0m\n\u001b[1;32m   1352\u001b[0m       \u001b[0;32mreturn\u001b[0m \u001b[0mself\u001b[0m\u001b[0;34m.\u001b[0m\u001b[0m_do_call\u001b[0m\u001b[0;34m(\u001b[0m\u001b[0m_prun_fn\u001b[0m\u001b[0;34m,\u001b[0m \u001b[0mhandle\u001b[0m\u001b[0;34m,\u001b[0m \u001b[0mfeeds\u001b[0m\u001b[0;34m,\u001b[0m \u001b[0mfetches\u001b[0m\u001b[0;34m)\u001b[0m\u001b[0;34m\u001b[0m\u001b[0;34m\u001b[0m\u001b[0m\n",
      "\u001b[0;32m/usr/local/lib/python3.7/site-packages/tensorflow/python/client/session.py\u001b[0m in \u001b[0;36m_do_call\u001b[0;34m(self, fn, *args)\u001b[0m\n\u001b[1;32m   1354\u001b[0m   \u001b[0;32mdef\u001b[0m \u001b[0m_do_call\u001b[0m\u001b[0;34m(\u001b[0m\u001b[0mself\u001b[0m\u001b[0;34m,\u001b[0m \u001b[0mfn\u001b[0m\u001b[0;34m,\u001b[0m \u001b[0;34m*\u001b[0m\u001b[0margs\u001b[0m\u001b[0;34m)\u001b[0m\u001b[0;34m:\u001b[0m\u001b[0;34m\u001b[0m\u001b[0;34m\u001b[0m\u001b[0m\n\u001b[1;32m   1355\u001b[0m     \u001b[0;32mtry\u001b[0m\u001b[0;34m:\u001b[0m\u001b[0;34m\u001b[0m\u001b[0;34m\u001b[0m\u001b[0m\n\u001b[0;32m-> 1356\u001b[0;31m       \u001b[0;32mreturn\u001b[0m \u001b[0mfn\u001b[0m\u001b[0;34m(\u001b[0m\u001b[0;34m*\u001b[0m\u001b[0margs\u001b[0m\u001b[0;34m)\u001b[0m\u001b[0;34m\u001b[0m\u001b[0;34m\u001b[0m\u001b[0m\n\u001b[0m\u001b[1;32m   1357\u001b[0m     \u001b[0;32mexcept\u001b[0m \u001b[0merrors\u001b[0m\u001b[0;34m.\u001b[0m\u001b[0mOpError\u001b[0m \u001b[0;32mas\u001b[0m \u001b[0me\u001b[0m\u001b[0;34m:\u001b[0m\u001b[0;34m\u001b[0m\u001b[0;34m\u001b[0m\u001b[0m\n\u001b[1;32m   1358\u001b[0m       \u001b[0mmessage\u001b[0m \u001b[0;34m=\u001b[0m \u001b[0mcompat\u001b[0m\u001b[0;34m.\u001b[0m\u001b[0mas_text\u001b[0m\u001b[0;34m(\u001b[0m\u001b[0me\u001b[0m\u001b[0;34m.\u001b[0m\u001b[0mmessage\u001b[0m\u001b[0;34m)\u001b[0m\u001b[0;34m\u001b[0m\u001b[0;34m\u001b[0m\u001b[0m\n",
      "\u001b[0;32m/usr/local/lib/python3.7/site-packages/tensorflow/python/client/session.py\u001b[0m in \u001b[0;36m_run_fn\u001b[0;34m(feed_dict, fetch_list, target_list, options, run_metadata)\u001b[0m\n\u001b[1;32m   1339\u001b[0m       \u001b[0mself\u001b[0m\u001b[0;34m.\u001b[0m\u001b[0m_extend_graph\u001b[0m\u001b[0;34m(\u001b[0m\u001b[0;34m)\u001b[0m\u001b[0;34m\u001b[0m\u001b[0;34m\u001b[0m\u001b[0m\n\u001b[1;32m   1340\u001b[0m       return self._call_tf_sessionrun(\n\u001b[0;32m-> 1341\u001b[0;31m           options, feed_dict, fetch_list, target_list, run_metadata)\n\u001b[0m\u001b[1;32m   1342\u001b[0m \u001b[0;34m\u001b[0m\u001b[0m\n\u001b[1;32m   1343\u001b[0m     \u001b[0;32mdef\u001b[0m \u001b[0m_prun_fn\u001b[0m\u001b[0;34m(\u001b[0m\u001b[0mhandle\u001b[0m\u001b[0;34m,\u001b[0m \u001b[0mfeed_dict\u001b[0m\u001b[0;34m,\u001b[0m \u001b[0mfetch_list\u001b[0m\u001b[0;34m)\u001b[0m\u001b[0;34m:\u001b[0m\u001b[0;34m\u001b[0m\u001b[0;34m\u001b[0m\u001b[0m\n",
      "\u001b[0;32m/usr/local/lib/python3.7/site-packages/tensorflow/python/client/session.py\u001b[0m in \u001b[0;36m_call_tf_sessionrun\u001b[0;34m(self, options, feed_dict, fetch_list, target_list, run_metadata)\u001b[0m\n\u001b[1;32m   1427\u001b[0m     return tf_session.TF_SessionRun_wrapper(\n\u001b[1;32m   1428\u001b[0m         \u001b[0mself\u001b[0m\u001b[0;34m.\u001b[0m\u001b[0m_session\u001b[0m\u001b[0;34m,\u001b[0m \u001b[0moptions\u001b[0m\u001b[0;34m,\u001b[0m \u001b[0mfeed_dict\u001b[0m\u001b[0;34m,\u001b[0m \u001b[0mfetch_list\u001b[0m\u001b[0;34m,\u001b[0m \u001b[0mtarget_list\u001b[0m\u001b[0;34m,\u001b[0m\u001b[0;34m\u001b[0m\u001b[0;34m\u001b[0m\u001b[0m\n\u001b[0;32m-> 1429\u001b[0;31m         run_metadata)\n\u001b[0m\u001b[1;32m   1430\u001b[0m \u001b[0;34m\u001b[0m\u001b[0m\n\u001b[1;32m   1431\u001b[0m   \u001b[0;32mdef\u001b[0m \u001b[0m_call_tf_sessionprun\u001b[0m\u001b[0;34m(\u001b[0m\u001b[0mself\u001b[0m\u001b[0;34m,\u001b[0m \u001b[0mhandle\u001b[0m\u001b[0;34m,\u001b[0m \u001b[0mfeed_dict\u001b[0m\u001b[0;34m,\u001b[0m \u001b[0mfetch_list\u001b[0m\u001b[0;34m)\u001b[0m\u001b[0;34m:\u001b[0m\u001b[0;34m\u001b[0m\u001b[0;34m\u001b[0m\u001b[0m\n",
      "\u001b[0;31mKeyboardInterrupt\u001b[0m: "
     ]
    }
   ],
   "source": [
    "parameters = model(layers_dims, X_train, y_train, X_test, y_test)"
   ]
  },
  {
   "cell_type": "markdown",
   "metadata": {},
   "source": [
    "## 3) Old Neural Network Outline without Tensorflow"
   ]
  },
  {
   "cell_type": "code",
   "execution_count": 96,
   "metadata": {},
   "outputs": [],
   "source": []
  },
  {
   "cell_type": "code",
   "execution_count": 97,
   "metadata": {},
   "outputs": [],
   "source": [
    "def relu(x):\n",
    "    '''\n",
    "    Description:\n",
    "    A relu function\n",
    "    \n",
    "    Input:\n",
    "    x -- a numpy array\n",
    "    \n",
    "    Output:\n",
    "    the relu function\n",
    "    '''\n",
    "    \n",
    "    return np.maximum(x,0)"
   ]
  },
  {
   "cell_type": "code",
   "execution_count": 103,
   "metadata": {},
   "outputs": [],
   "source": [
    "def softmax(X):\n",
    "    '''\n",
    "    Description:\n",
    "    The softmax function\n",
    "    \n",
    "    Input:\n",
    "    \n",
    "    \n",
    "    Output:\n",
    "    \n",
    "    '''\n",
    "    \n",
    "    exps = np.exp(X)\n",
    "    \n",
    "    return np.exp(X)/np.sum(exps)\n",
    "    "
   ]
  },
  {
   "cell_type": "code",
   "execution_count": 98,
   "metadata": {},
   "outputs": [],
   "source": [
    "def nn_initialize_old(layers_dims):\n",
    "    '''\n",
    "    Description: \n",
    "    This function initializes all of the parameters for the neural network using the number of layers and hidden\n",
    "        units definted in layers_dims\n",
    "    \n",
    "    Inputs:\n",
    "    layers_dims -- a vector of the number of hidden units in each layers where the first (zero-th) value is the \n",
    "        number of features, m, in the input values\n",
    "        \n",
    "    Outputs:\n",
    "    parameters -- a dictionary of initialized parameters for the neural network\n",
    "    \n",
    "    '''\n",
    "\n",
    "    np.random.seed(2) #sets the seed of the random number generator\n",
    "    parameters = {}\n",
    "    \n",
    "    #as a note - the W parameters are initialized as a product of a random number and root (2/previous layer size)\n",
    "    # the square root term provides a better initialization of the parameters\n",
    "    for l in range(1, len(layers_dims)):\n",
    "        parameters['W'+str(l)] = np.random.randn(layers_dims[l], layers_dims[l-1]) * np.sqrt(2 / layer_dims[l-1])\n",
    "        parameters['b'+str(l)] = np.zeros( (layers_dims[l], 1) )\n",
    "        \n",
    "        assert(parameters['W' + str(l)].shape == layers_dims[l], layers_dims[l-1])\n",
    "        assert(parameters['b'+str(l)]).shape == layers_dims[l],1 )\n",
    "        \n",
    "    assert( len(parameters) == 2*( len(layers_dims)-1 ) )\n",
    "        \n",
    "    return parameters"
   ]
  },
  {
   "cell_type": "code",
   "execution_count": 99,
   "metadata": {},
   "outputs": [
    {
     "data": {
      "text/plain": [
       "(20, 784)"
      ]
     },
     "execution_count": 99,
     "metadata": {},
     "output_type": "execute_result"
    }
   ],
   "source": [
    "param = nn_initialize(layers_dims)\n",
    "param['W1'].shape"
   ]
  },
  {
   "cell_type": "markdown",
   "metadata": {},
   "source": [
    "What is the cost function for a neural network classifying 9 digits? What is the final step of the neural network? "
   ]
  },
  {
   "cell_type": "code",
   "execution_count": 100,
   "metadata": {},
   "outputs": [],
   "source": [
    "def nn_forward_prop(parameters, X):\n",
    "    '''\n",
    "    Description:\n",
    "    The forward propagation step in the neural network. For an N-layer neural network, there will be N relu layers\n",
    "    \n",
    "    Input:\n",
    "    parameters -- a dictionary of parameters of the neural network with W1 indicating the W-weight for the first\n",
    "        layer of the neural network\n",
    "    X         -- the inputs to the neural network with shape (input size (m) x number of examples (n) )\n",
    "    \n",
    "    \n",
    "    Output:\n",
    "    A_L       -- the activation value of the final layer of the L-layer neural network\n",
    "    cache     -- a dictionary of the intermediate Z and A values\n",
    "    \n",
    "    '''\n",
    "    \n",
    "    L = len(parameters) // 2 # the number of layers in the neural network\n",
    "    cache = {'A0': X_train}\n",
    "    \n",
    "    \n",
    "    for l in range(1, L+1):\n",
    "        Z = np.dot(parameters['W'+str(l)],cache['A'+str(l-1)] ) + parameters['b'+str(l)]\n",
    "        A = relu(Z)\n",
    "        cache['Z'+str(l)], cache['A'+str(l)] = Z, A\n",
    "        \n",
    "    A_L = A\n",
    "    \n",
    "#    assert (len(cache)+1 == len(parameters)//2 )\n",
    "    \n",
    "    return A_L, cache\n",
    "                              "
   ]
  },
  {
   "cell_type": "code",
   "execution_count": 102,
   "metadata": {},
   "outputs": [
    {
     "data": {
      "text/plain": [
       "array([[0.        , 0.        , 0.00057345, ..., 0.        , 0.        ,\n",
       "        0.        ],\n",
       "       [0.00150871, 0.00224729, 0.0021462 , ..., 0.00188633, 0.00103728,\n",
       "        0.00075334],\n",
       "       [0.00108241, 0.00308841, 0.00204568, ..., 0.        , 0.00222153,\n",
       "        0.00308861],\n",
       "       ...,\n",
       "       [0.00056204, 0.        , 0.        , ..., 0.00084801, 0.        ,\n",
       "        0.00449367],\n",
       "       [0.00577001, 0.00131677, 0.00381508, ..., 0.00138423, 0.00266134,\n",
       "        0.00168717],\n",
       "       [0.00240789, 0.00269189, 0.        , ..., 0.00173917, 0.00157735,\n",
       "        0.00152875]])"
      ]
     },
     "execution_count": 102,
     "metadata": {},
     "output_type": "execute_result"
    }
   ],
   "source": [
    "A_L, cache = nn_forward_prop(param, X_train)\n",
    "cache['A2']"
   ]
  },
  {
   "cell_type": "code",
   "execution_count": null,
   "metadata": {},
   "outputs": [],
   "source": [
    "def nn_backward_prop(parameters,X, cache):\n",
    "    '''\n",
    "    Description:\n",
    "    The backward propagation step of the neural network.\n",
    "    \n",
    "    Inputs:\n",
    "    \n",
    "    \n",
    "    Outputs:\n",
    "    \n",
    "    \n",
    "    '''\n",
    "    \n",
    "    \n",
    "    \n",
    "    \n",
    "    "
   ]
  },
  {
   "cell_type": "code",
   "execution_count": null,
   "metadata": {},
   "outputs": [],
   "source": [
    "def crossEntropy_loss(X, y):\n",
    "    \n",
    "    \"\"\"\n",
    "    X is the output from fully connected layer (num_examples x num_classes)\n",
    "    y is labels (num_examples x 1)\n",
    "    \tNote that y is not one-hot encoded vector. \n",
    "    \tIt can be computed as y.argmax(axis=1) from one-hot encoded vectors of labels if required.\n",
    "    \"\"\"\n",
    "    m = y.shape[0]\n",
    "    p = softmax(X)\n",
    "    # We use multidimensional array indexing to extract \n",
    "    # softmax probability of the correct label for each sample.\n",
    "    # Refer to https://docs.scipy.org/doc/numpy/user/basics.indexing.html#indexing-multi-dimensional-arrays for understanding multidimensional array indexing.\n",
    "    log_likelihood = -np.log(p[range(m),y])\n",
    "    loss = np.sum(log_likelihood) / m\n",
    "    return loss"
   ]
  },
  {
   "cell_type": "code",
   "execution_count": null,
   "metadata": {},
   "outputs": [],
   "source": [
    "def nn_predict(A_L):\n",
    "    '''\n",
    "    Description:\n",
    "    Takes in the final layer of the neural network and takes the highest value in that layer of the prediction\n",
    "    \n",
    "    \n",
    "    '''"
   ]
  },
  {
   "cell_type": "markdown",
   "metadata": {},
   "source": [
    "# Scratch work - Tensorflow tutorial"
   ]
  },
  {
   "cell_type": "code",
   "execution_count": 105,
   "metadata": {},
   "outputs": [],
   "source": [
    "import tensorflow as tf"
   ]
  },
  {
   "cell_type": "code",
   "execution_count": 131,
   "metadata": {},
   "outputs": [
    {
     "name": "stdout",
     "output_type": "stream",
     "text": [
      "0.0\n"
     ]
    }
   ],
   "source": [
    "coefficients = np.array([[1.], [-20.], [10.]])\n",
    "\n",
    "w = tf.Variable(0, dtype = tf.float32)\n",
    "x = tf.placeholder(tf.float32, [3,1])\n",
    "#cost = tf.add( tf.add(w**2, tf.multiply(-10.,w) ), 25)\n",
    "#cost = w**2 - 10*w + 25\n",
    "cost = x[0][0]*w**2 + x[1][0]*w + x[2][0]\n",
    "train = tf.train.GradientDescentOptimizer(0.01).minimize(cost)\n",
    "\n",
    "init = tf.global_variables_initializer()\n",
    "#session = tf.Session()\n",
    "#session.run(init)\n",
    "#print(session.run(w))\n",
    "\n",
    "with tf.Session() as session:\n",
    "    session.run(init)\n",
    "    print(session.run(w))"
   ]
  },
  {
   "cell_type": "code",
   "execution_count": 129,
   "metadata": {},
   "outputs": [
    {
     "name": "stdout",
     "output_type": "stream",
     "text": [
      "0.19999999\n"
     ]
    }
   ],
   "source": [
    "session.run(train, feed_dict = {x:coefficients})\n",
    "print(session.run(w))"
   ]
  },
  {
   "cell_type": "code",
   "execution_count": 130,
   "metadata": {},
   "outputs": [
    {
     "name": "stdout",
     "output_type": "stream",
     "text": [
      "9.999977\n"
     ]
    }
   ],
   "source": [
    "for i in range(1000):\n",
    "    session.run(train, feed_dict={x:coefficients})\n",
    "print(session.run(w))"
   ]
  }
 ],
 "metadata": {
  "kernelspec": {
   "display_name": "Python 3",
   "language": "python",
   "name": "python3"
  },
  "language_info": {
   "codemirror_mode": {
    "name": "ipython",
    "version": 3
   },
   "file_extension": ".py",
   "mimetype": "text/x-python",
   "name": "python",
   "nbconvert_exporter": "python",
   "pygments_lexer": "ipython3",
   "version": "3.7.3"
  }
 },
 "nbformat": 4,
 "nbformat_minor": 2
}
