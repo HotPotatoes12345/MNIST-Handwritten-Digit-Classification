{
 "cells": [
  {
   "cell_type": "markdown",
   "metadata": {},
   "source": [
    "## Prompt"
   ]
  },
  {
   "cell_type": "markdown",
   "metadata": {},
   "source": [
    "Problem statement:\n",
    "There exists a peer-to-peer lending market in which investors can loan money in small amounts to those in need. Loans can either be Fully Paid, or Charged Off. Your task is to take part of this dataset and build a model to predict the likelihood of this loan being Fully Paid. This data is taken from LendingClub.com\n",
    "\n",
    "You have two files:\n",
    " - dataset.txt\n",
    " - unlabeled_data.txt\n",
    "\n",
    "Please use dataset.txt to build a model to classify the likelihood of a loan being paid off, and use unlabeled_data.txt file to come up with your predictions. Use standard libraries if possible, and assume that your interviewers will be familiar with those (Sklearn, XGBoost, Tensorflow, etc.). Look at column loan_status.\n",
    "\n",
    "Deliverables:\n",
    "1. Evaluate your model’s performance, build metrics of your choosing.\n",
    "2. Score the unlabeled_data.txt file\n",
    " - Be sure to include the index column and your prediction, headers shown below: \n",
    "  - i. index, predicted_loan_status\n",
    "3. Build a servable application that has a predict endpoint. You should determine the following:\n",
    " - Parameters\n",
    " - Output\n",
    " - Application framework, SLAs, etc\n",
    "4. A presentation (45 minutes long, you do not need to fill the whole time allotted)\n",
    "Please be sure to state your assumptions, and be prepared to answer questions about your work!"
   ]
  },
  {
   "cell_type": "markdown",
   "metadata": {},
   "source": []
  }
 ],
 "metadata": {
  "kernelspec": {
   "display_name": "Python 3",
   "language": "python",
   "name": "python3"
  },
  "language_info": {
   "codemirror_mode": {
    "name": "ipython",
    "version": 3
   },
   "file_extension": ".py",
   "mimetype": "text/x-python",
   "name": "python",
   "nbconvert_exporter": "python",
   "pygments_lexer": "ipython3",
   "version": "3.7.3"
  }
 },
 "nbformat": 4,
 "nbformat_minor": 2
}
